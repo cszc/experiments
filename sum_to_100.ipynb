{
 "cells": [
  {
   "cell_type": "code",
   "execution_count": 58,
   "metadata": {
    "collapsed": false
   },
   "outputs": [],
   "source": [
    "def get_addends(nums):\n",
    "   ...:     numlist = [None]*101\n",
    "   ...:     for num in nums:\n",
    "   ...:         print('num:', num)\n",
    "   ...:         if num == 100:\n",
    "   ...:             return [num, 0]\n",
    "   ...:         elif num > 100:\n",
    "   ...:             continue\n",
    "   ...:         complement = 100 - num\n",
    "   ...:         if numlist[complement] is not None:\n",
    "   ...:             print('complement', complement, num)\n",
    "   ...:             numlist[complement].append(num)\n",
    "   ...:             return numlist[complement]\n",
    "   ...:         else:\n",
    "   ...:             for i, x in enumerate(list(numlist)):\n",
    "   ...:                 if x:\n",
    "   ...:                     mysum = i + num\n",
    "   ...:                     if mysum < 100:\n",
    "   ...:                         sumnums = x + [num]\n",
    "   ...:                         numlist[mysum] = sumnums\n",
    "   ...:                         #print('numlist:', numlist[mysum])\n",
    "   ...:             numlist[num] = [num]\n"
   ]
  },
  {
   "cell_type": "code",
   "execution_count": 207,
   "metadata": {
    "collapsed": false
   },
   "outputs": [
    {
     "name": "stdout",
     "output_type": "stream",
     "text": [
      "num: 25\n",
      "num: 24\n",
      "num: 24\n",
      "num: 2\n",
      "num: 11\n",
      "num: 19\n",
      "num: 8\n",
      "complement 92 8\n",
      "[25, 24, 24, 19, 8]\n",
      "100\n"
     ]
    }
   ],
   "source": [
    "import random\n",
    "nums = [random.randrange(40) for _ in range(200)]\n",
    "addends = get_addends(nums)\n",
    "print(addends)\n",
    "print(sum(addends))"
   ]
  }
 ],
 "metadata": {
  "kernelspec": {
   "display_name": "Python 3",
   "language": "python",
   "name": "python3"
  },
  "language_info": {
   "codemirror_mode": {
    "name": "ipython",
    "version": 3
   },
   "file_extension": ".py",
   "mimetype": "text/x-python",
   "name": "python",
   "nbconvert_exporter": "python",
   "pygments_lexer": "ipython3",
   "version": "3.5.1"
  }
 },
 "nbformat": 4,
 "nbformat_minor": 0
}
